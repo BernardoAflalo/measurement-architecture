{
 "cells": [
  {
   "cell_type": "markdown",
   "metadata": {},
   "source": [
    "## Measurement Architecture Example\n",
    "\n",
    "A simple example, with simulated data.\n",
    "\n",
    "This simple example **do not consider any type of customer segmentation**. To implement it, you could add a customer dimension table or add customer info inside metric store."
   ]
  },
  {
   "cell_type": "code",
   "execution_count": 37,
   "metadata": {},
   "outputs": [],
   "source": [
    "import pandas as pd\n",
    "import numpy as np\n",
    "from random import sample\n",
    "import itertools\n",
    "import datetime\n",
    "import ipywidgets as widgets\n",
    "from croniter import croniter\n",
    "from IPython.display import display, Image\n",
    "import shutil\n",
    "import findspark\n",
    "findspark.init()\n",
    "\n",
    "\n",
    "\n",
    "import pyspark\n",
    "from pyspark.sql import SparkSession, SQLContext\n",
    "import pyspark.sql.functions as F\n",
    "from pyspark.sql.types import StringType, DateType, DoubleType\n",
    "from pyspark.ml.feature import VectorAssembler\n",
    "from pyspark.ml.regression import LinearRegression, GeneralizedLinearRegression\n",
    "\n",
    "spark = SparkSession.builder.getOrCreate()\n",
    "shutil.rmtree('spark-warehouse', ignore_errors=True)\n",
    "\n",
    "master = \"local\"\n",
    "appName = \"Simple Measururement Architecture\"\n",
    "spark = SparkSession.builder \\\n",
    "    .appName(appName) \\\n",
    "    .master(master) \\\n",
    "    .enableHiveSupport() \\\n",
    "    .getOrCreate()"
   ]
  },
  {
   "cell_type": "markdown",
   "metadata": {},
   "source": [
    "### 0. The basic Tables\n",
    "In this section the basic tables to a measurement architecture are created. The important point here is: all data created must be followed by the metadata that completely describe it.\n",
    "\n",
    "All architecture described here depends on 6 tables, 3 for metrics and 3 for experiments, as described bellow:"
   ]
  },
  {
   "cell_type": "markdown",
   "metadata": {},
   "source": [
    "![alt text](MetricStore.drawio.png \"Tables Description\")"
   ]
  },
  {
   "cell_type": "code",
   "execution_count": 2,
   "metadata": {},
   "outputs": [
    {
     "name": "stdout",
     "output_type": "stream",
     "text": [
      "+------------+----------+---------+------+-----+\n",
      "|    CUSTOMER|      DATE|VARIATION|METRIC|VALUE|\n",
      "+------------+----------+---------+------+-----+\n",
      "|customer_750|2021-11-30|      N/A| sales|481.0|\n",
      "|customer_750|2021-12-01|      N/A| sales|525.0|\n",
      "|customer_750|2021-12-02|      N/A| sales|665.0|\n",
      "|customer_750|2021-12-03|      N/A| sales|314.0|\n",
      "|customer_750|2021-12-04|      N/A| sales|722.0|\n",
      "|customer_750|2021-12-05|      N/A| sales|424.0|\n",
      "|customer_751|2021-09-07|      N/A| sales|152.0|\n",
      "|customer_751|2021-09-08|      N/A| sales|716.0|\n",
      "|customer_751|2021-09-09|      N/A| sales|815.0|\n",
      "|customer_751|2021-09-10|      N/A| sales|603.0|\n",
      "|customer_751|2021-09-11|      N/A| sales|281.0|\n",
      "|customer_751|2021-09-12|      N/A| sales|217.0|\n",
      "|customer_751|2021-09-13|      N/A| sales|506.0|\n",
      "|customer_751|2021-09-14|      N/A| sales|712.0|\n",
      "|customer_751|2021-09-15|      N/A| sales|920.0|\n",
      "|customer_751|2021-09-16|      N/A| sales|257.0|\n",
      "|customer_751|2021-09-17|      N/A| sales|632.0|\n",
      "|customer_751|2021-09-18|      N/A| sales|812.0|\n",
      "|customer_751|2021-09-19|      N/A| sales|824.0|\n",
      "|customer_751|2021-09-20|      N/A| sales| 61.0|\n",
      "+------------+----------+---------+------+-----+\n",
      "only showing top 20 rows\n",
      "\n"
     ]
    }
   ],
   "source": [
    "# Creating Metric Store\n",
    "all_customers = ['customer_' + str(ii) for ii in range(0,1000)]\n",
    "def create_metric_store(all_customers):\n",
    "    ndays = 90\n",
    "    \n",
    "    all_dates = pd.date_range(datetime.datetime.today()- datetime.timedelta(days=ndays) , periods=ndays).tolist()\n",
    "\n",
    "    df_metric_store_base = pd.DataFrame(list(itertools.product(all_customers, all_dates)), columns=['CUSTOMER', 'DATE'])\n",
    "    df_metric_store_base['DATE'] = df_metric_store_base['DATE'].dt.date\n",
    "    df_metric_store_base['VARIATION'] = 'N/A'\n",
    "    df_metric_store_1 = df_metric_store_base.copy()\n",
    "    df_metric_store_1['METRIC'] = 'sales'\n",
    "    df_metric_store_1['VALUE'] = np.random.randint(0,1000,size=df_metric_store_1.shape[0])\n",
    "\n",
    "    df_metric_store_2 = df_metric_store_base.copy()\n",
    "    df_metric_store_2['METRIC'] = 'churn'\n",
    "    df_metric_store_2['VALUE'] = np.random.randint(0,1000,size=df_metric_store_2.shape[0])/1000\n",
    "\n",
    "    df_metric_store = df_metric_store_1.append(df_metric_store_2)\n",
    "    df_metric_store = df_metric_store.reset_index(drop = True)\n",
    "    df_metric_store = spark.createDataFrame(df_metric_store)\n",
    "    df_metric_store = df_metric_store.select(['CUSTOMER', 'DATE', 'VARIATION', 'METRIC', 'VALUE'])\n",
    "    df_metric_store.write.mode(\"overwrite\").saveAsTable(\"df_metric_store\")\n",
    "\n",
    "create_metric_store(all_customers)\n",
    "df_metric_store = spark.sql(\"select * from df_metric_store\")\n",
    "df_metric_store.show()"
   ]
  },
  {
   "cell_type": "code",
   "execution_count": 3,
   "metadata": {},
   "outputs": [
    {
     "name": "stdout",
     "output_type": "stream",
     "text": [
      "+------+--------+--------------------+--------------------+----------+--------------------+\n",
      "|METRIC|    TYPE|         RESPONSIBLE|         DESCRIPTION| FREQUENCY|               QUERY|\n",
      "+------+--------+--------------------+--------------------+----------+--------------------+\n",
      "| churn|   model| xxx@yourcompany.com|Probability of cu...|0 15 * * 7|select ....from d...|\n",
      "| sales|business|xxxx@yourcompany.com|Total sales of a ...| 0 8 * * *|select ....from d...|\n",
      "+------+--------+--------------------+--------------------+----------+--------------------+\n",
      "\n"
     ]
    }
   ],
   "source": [
    "# Creating Dummy Metadata\n",
    "def create_metric_store_metadata():\n",
    "    dict_metadata = {'METRIC': ['sales', 'churn'], 'TYPE': ['business', 'model'], 'RESPONSIBLE': ['xxxx@yourcompany.com', 'xxx@yourcompany.com'], 'DESCRIPTION': ['Total sales of a given customer across all channels and products', 'Probability of customer churn in 60 days. Computed by data science team, updated every week'], 'FREQUENCY': ['0 8 * * *', '0 15 * * 7'], 'QUERY': ['select ....from db.customer join ... where...', 'select ....from db.customer join ... where...']}\n",
    "    df_metadata = spark.createDataFrame(pd.DataFrame.from_dict(dict_metadata))\n",
    "    df_metadata.write.mode(\"overwrite\").saveAsTable(\"df_metadata\")\n",
    "    \n",
    "create_metric_store_metadata()\n",
    "df_metadata = spark.sql(\"select * from df_metadata\")\n",
    "df_metadata.show()"
   ]
  },
  {
   "cell_type": "markdown",
   "metadata": {},
   "source": [
    "As the query and the frequency in Cron format is in metadata table, your ETL process can read directly from this table and run the process. To keep governance, it is important to make sure that metrics are somehow audited before running.\n",
    "\n",
    "For example, you could add an extra table, controlled by a centralized team, describing the status of each Metric"
   ]
  },
  {
   "cell_type": "code",
   "execution_count": 4,
   "metadata": {},
   "outputs": [
    {
     "name": "stdout",
     "output_type": "stream",
     "text": [
      "+------+--------+-----------+\n",
      "|METRIC|    TYPE|     STATUS|\n",
      "+------+--------+-----------+\n",
      "| sales|business|   Approved|\n",
      "| churn|   model|In Revision|\n",
      "+------+--------+-----------+\n",
      "\n"
     ]
    }
   ],
   "source": [
    "# Creating Metric Governance\n",
    "def create_metric_store_governance():\n",
    "    dict_metricgov = {'METRIC': ['sales', 'churn'], 'TYPE': ['business', 'model'], 'STATUS': ['Approved', 'In Revision']}\n",
    "    df_metricgov= spark.createDataFrame(pd.DataFrame.from_dict(dict_metricgov))\n",
    "    df_metricgov.write.mode(\"overwrite\").saveAsTable(\"df_metricgov\")\n",
    "    \n",
    "create_metric_store_governance()\n",
    "df_metricgov = spark.sql(\"select * from df_metricgov\")\n",
    "df_metricgov.show()"
   ]
  },
  {
   "cell_type": "markdown",
   "metadata": {},
   "source": [
    "### 1. Support Functions\n",
    "Some functions to operate our measurement architecture"
   ]
  },
  {
   "cell_type": "code",
   "execution_count": 5,
   "metadata": {},
   "outputs": [],
   "source": [
    "# Support Functions\n",
    "def save_table(df, name):\n",
    "    df.write.mode(\"overwrite\").saveAsTable(\"temp_table\")\n",
    "    dy = spark.table(\"temp_table\")\n",
    "    dy.write.mode(\"overwrite\").insertInto(name)\n",
    "\n",
    "def create_new_metric(name, type_metric, responsible, description, frequency, query):\n",
    "    \"\"\"\n",
    "    Register new metric in Metric Store Metadata. This should be done every time a new metric is added in you store \n",
    "    Obs.: Add validations! Ex. metric type, frequency format, duplications\n",
    "    \n",
    "    - Suggestion: use hive table append\n",
    "    \n",
    "    \"\"\"\n",
    "\n",
    "    df_metadata = spark.sql(\"select * from df_metadata\")    \n",
    "    dict_meta_add = {'METRIC': [name], 'TYPE': [type_metric], 'RESPONSIBLE': [responsible], 'DESCRIPTION': [description], 'FREQUENCY': [frequency], 'QUERY': [query]}\n",
    "    df_meta_add = spark.createDataFrame(pd.DataFrame.from_dict(dict_meta_add))\n",
    "    df_metadata = df_meta_add.union(df_metadata)\n",
    "    save_table(df_metadata, \"df_metadata\")\n",
    "\n",
    "\n",
    "def upload_metric(df, date, metric, variation = 'N/A'):\n",
    "    \"\"\" \n",
    "    To upload new data to Metric Store. \n",
    "    \n",
    "    - df contains customer/ value for a specific day\n",
    "    \n",
    "    Obs.: Add validations! \n",
    "     \n",
    "    - Suggestion: use hive table append\n",
    "    \n",
    "    \"\"\"\n",
    "\n",
    "    df_metadata = spark.sql(\"select * from df_metadata\")\n",
    "    df_metric_store = spark.sql(\"select * from df_metric_store\")\n",
    "    \n",
    "    df = pd.DataFrame.from_dict(df)\n",
    "    \n",
    "    df = spark.createDataFrame(df)\n",
    "    df = df.withColumn(\"METRIC\", F.lit(metric))\n",
    "    df = df.withColumn(\"VARIATION\", F.lit(variation))\n",
    "    df = df.withColumn(\"DATE\", F.lit(date))\n",
    "    \n",
    "    df = df.withColumn(\"CUSTOMER\",F.col(\"CUSTOMER\").cast(StringType()))\n",
    "    df = df.withColumn(\"VALUE\",F.col(\"VALUE\").cast(DoubleType()))\n",
    "    df = df.withColumn(\"DATE\",F.col(\"DATE\").cast(DateType()))\n",
    "    \n",
    "    \n",
    "    # Validates if metric is ok with metadata (user, frequency etc)\n",
    "    df = df.join(df_metadata.select('METRIC'), on = 'METRIC', how = 'inner')\n",
    "    # ... add validations\n",
    "    \n",
    "    df = df.select(['CUSTOMER', 'DATE', 'VARIATION', 'METRIC', 'VALUE'])\n",
    "    df_metric_store = df_metric_store.select(['CUSTOMER', 'DATE', 'VARIATION', 'METRIC', 'VALUE'])\n",
    "    \n",
    "    # Append on top, for visualization\n",
    "    if df.count() > 0:\n",
    "        df_metric_store = df.union(df_metric_store)\n",
    "    else:\n",
    "        print(\"No rows added\")\n",
    "\n",
    "    save_table(df_metric_store, \"df_metric_store\")"
   ]
  },
  {
   "cell_type": "markdown",
   "metadata": {},
   "source": [
    "### 2. Let's Operate this simple Metric Store!\n",
    "\n",
    "Some examples to add new metric, or append metric to an existing metric.\n",
    "\n",
    "Bellow, some cells that:\n",
    "- `create_new_metric`: must be run a single time, once a new metric is created inside Metric Store. \n",
    "- `upload_metric`: Must be run according to your need, to update data from Metric Store. Often, this is once a day (for batch process) or realtime\n",
    "\n",
    "Suggestion is to centralized all metric creation and data upload (see the end of this notebook for an example), to facilitate governance!\n",
    "\n",
    "Obs.: All these functions can be turned into APIs!"
   ]
  },
  {
   "cell_type": "code",
   "execution_count": 6,
   "metadata": {},
   "outputs": [
    {
     "name": "stdout",
     "output_type": "stream",
     "text": [
      "+--------------+----------+--------------------+--------------------+----------+--------------------+\n",
      "|        METRIC|      TYPE|         RESPONSIBLE|         DESCRIPTION| FREQUENCY|               QUERY|\n",
      "+--------------+----------+--------------------+--------------------+----------+--------------------+\n",
      "|         churn|     model| xxx@yourcompany.com|Probability of cu...|0 15 * * 7|select ....from d...|\n",
      "|         sales|  business|xxxx@yourcompany.com|Total sales of a ...| 0 8 * * *|select ....from d...|\n",
      "|web_navigation|engajament|zzzz@yourcompany.com|Total hit points ...| 0 9 * * *|select .... from ...|\n",
      "+--------------+----------+--------------------+--------------------+----------+--------------------+\n",
      "\n"
     ]
    }
   ],
   "source": [
    "# If you want to add a new Metric to your store, run this a single time\n",
    "# Web Navigation Metric\n",
    "df_metadata = create_new_metric(name = 'web_navigation', type_metric = 'engajament', responsible = 'zzzz@yourcompany.com', description = \"Total hit points of a page defined in column 'variation'\", frequency = '0 9 * * *', query = 'select .... from ....')\n",
    "df_metadata = spark.sql(\"select * from df_metadata\")\n",
    "df_metadata.show()"
   ]
  },
  {
   "cell_type": "code",
   "execution_count": 7,
   "metadata": {},
   "outputs": [
    {
     "name": "stdout",
     "output_type": "stream",
     "text": [
      "+------------+----------+---------+------+-----+\n",
      "|    CUSTOMER|      DATE|VARIATION|METRIC|VALUE|\n",
      "+------------+----------+---------+------+-----+\n",
      "|customer_750|2021-11-30|      N/A| sales|481.0|\n",
      "|customer_750|2021-12-01|      N/A| sales|525.0|\n",
      "|customer_750|2021-12-02|      N/A| sales|665.0|\n",
      "|customer_750|2021-12-03|      N/A| sales|314.0|\n",
      "|customer_750|2021-12-04|      N/A| sales|722.0|\n",
      "+------------+----------+---------+------+-----+\n",
      "only showing top 5 rows\n",
      "\n"
     ]
    }
   ],
   "source": [
    "# Example including that on Metric Store\n",
    "df_append_store = {'CUSTOMER': ['customer_200', 'customer_9872'], 'VALUE': [190, 30]}\n",
    "upload_metric(df_append_store, date='2021-11-30', metric='sales')\n",
    "df_metric_store = spark.sql(\"select * from df_metric_store where METRIC = 'sales'\")\n",
    "df_metric_store.show(5)"
   ]
  },
  {
   "cell_type": "code",
   "execution_count": 8,
   "metadata": {},
   "outputs": [
    {
     "name": "stdout",
     "output_type": "stream",
     "text": [
      "+------------+----------+--------------------+--------------+-----+\n",
      "|    CUSTOMER|      DATE|           VARIATION|        METRIC|VALUE|\n",
      "+------------+----------+--------------------+--------------+-----+\n",
      "| customer_70|2021-10-30|https://www.merca...|web_navigation|  1.0|\n",
      "|customer_759|2021-10-30|https://www.merca...|web_navigation|  1.0|\n",
      "|customer_133|2021-10-30|https://www.merca...|web_navigation|  1.0|\n",
      "|customer_802|2021-10-30|https://www.merca...|web_navigation|  1.0|\n",
      "|customer_219|2021-10-30|https://www.merca...|web_navigation|  1.0|\n",
      "+------------+----------+--------------------+--------------+-----+\n",
      "only showing top 5 rows\n",
      "\n"
     ]
    }
   ],
   "source": [
    "# Another example: Including clientes that navigates in loyalty lvl 6\n",
    "# This data will be used later on\n",
    "n_cust = 10\n",
    "all_customer_page_6 = sample(all_customers,n_cust)\n",
    "df_append_store = {'CUSTOMER': all_customer_page_6, 'VALUE': [1]*n_cust}\n",
    "upload_metric(df_append_store, date = '2021-10-30', metric = 'web_navigation', variation = 'https://www.mercadolivre.com.br/assinaturas/nivel-6')\n",
    "df_metric_store = spark.sql(\"select * from df_metric_store where METRIC = 'web_navigation'\")\n",
    "df_metric_store.show(5)"
   ]
  },
  {
   "cell_type": "code",
   "execution_count": 9,
   "metadata": {},
   "outputs": [
    {
     "name": "stdout",
     "output_type": "stream",
     "text": [
      "+-------------------+----------+--------------------+--------------------+----------+--------------------+\n",
      "|             METRIC|      TYPE|         RESPONSIBLE|         DESCRIPTION| FREQUENCY|               QUERY|\n",
      "+-------------------+----------+--------------------+--------------------+----------+--------------------+\n",
      "|loyalty_acquisition|engajament|zzzz@yourcompany.com| VALUE=1 for cust...| 0 9 * * *|select .... from ...|\n",
      "|              churn|     model| xxx@yourcompany.com|Probability of cu...|0 15 * * 7|select ....from d...|\n",
      "|              sales|  business|xxxx@yourcompany.com|Total sales of a ...| 0 8 * * *|select ....from d...|\n",
      "|     web_navigation|engajament|zzzz@yourcompany.com|Total hit points ...| 0 9 * * *|select .... from ...|\n",
      "+-------------------+----------+--------------------+--------------------+----------+--------------------+\n",
      "\n"
     ]
    }
   ],
   "source": [
    "# Creating conversion metric: ex who acquire lvl 6 loyalty program\n",
    "# This data will be used later on\n",
    "create_new_metric(name = 'loyalty_acquisition', type_metric = 'engajament', responsible = 'zzzz@yourcompany.com', description = \" VALUE=1 for customers that acquired loyalty program in that particular date. Loyalty level is described in 'variation'\", frequency = '0 9 * * *', query = 'select .... from ....')\n",
    "df_metadata = spark.sql(\"select * from df_metadata\")\n",
    "df_metadata.show()"
   ]
  },
  {
   "cell_type": "code",
   "execution_count": 10,
   "metadata": {},
   "outputs": [
    {
     "name": "stdout",
     "output_type": "stream",
     "text": [
      "+------------+----------+---------+-------------------+-----+\n",
      "|    CUSTOMER|      DATE|VARIATION|             METRIC|VALUE|\n",
      "+------------+----------+---------+-------------------+-----+\n",
      "|customer_180|2021-10-30|        6|loyalty_acquisition|  1.0|\n",
      "|customer_453|2021-10-30|        6|loyalty_acquisition|  1.0|\n",
      "|customer_535|2021-10-30|        6|loyalty_acquisition|  1.0|\n",
      "|customer_802|2021-10-30|        6|loyalty_acquisition|  1.0|\n",
      "|customer_330|2021-10-30|        6|loyalty_acquisition|  1.0|\n",
      "+------------+----------+---------+-------------------+-----+\n",
      "\n"
     ]
    }
   ],
   "source": [
    "# Adding a subset of customers that navigates in loyalty 6 program\n",
    "# This data will be used later on\n",
    "df_append_store = {'CUSTOMER': sample(all_customer_page_6,5), 'VALUE': [1]*5}\n",
    "upload_metric(df_append_store, date = '2021-10-30', metric = 'loyalty_acquisition', variation = '6')\n",
    "df_metric_store = spark.sql(\"select * from df_metric_store where METRIC = 'loyalty_acquisition'\")\n",
    "df_metric_store.show(5)"
   ]
  },
  {
   "cell_type": "markdown",
   "metadata": {},
   "source": [
    "Note that, in pyspark, we can use both SQL and python. For example, the two statements bellow are equivalent:"
   ]
  },
  {
   "cell_type": "code",
   "execution_count": 11,
   "metadata": {},
   "outputs": [
    {
     "name": "stdout",
     "output_type": "stream",
     "text": [
      "+------------+----------+---------+-------------------+-----+\n",
      "|    CUSTOMER|      DATE|VARIATION|             METRIC|VALUE|\n",
      "+------------+----------+---------+-------------------+-----+\n",
      "|customer_180|2021-10-30|        6|loyalty_acquisition|  1.0|\n",
      "|customer_453|2021-10-30|        6|loyalty_acquisition|  1.0|\n",
      "|customer_535|2021-10-30|        6|loyalty_acquisition|  1.0|\n",
      "|customer_802|2021-10-30|        6|loyalty_acquisition|  1.0|\n",
      "|customer_330|2021-10-30|        6|loyalty_acquisition|  1.0|\n",
      "+------------+----------+---------+-------------------+-----+\n",
      "\n"
     ]
    }
   ],
   "source": [
    "df_metric_store = spark.sql(\"select * from df_metric_store where METRIC = 'loyalty_acquisition'\")\n",
    "df_metric_store.show(5)"
   ]
  },
  {
   "cell_type": "code",
   "execution_count": 12,
   "metadata": {},
   "outputs": [
    {
     "name": "stdout",
     "output_type": "stream",
     "text": [
      "+------------+----------+---------+-------------------+-----+\n",
      "|    CUSTOMER|      DATE|VARIATION|             METRIC|VALUE|\n",
      "+------------+----------+---------+-------------------+-----+\n",
      "|customer_180|2021-10-30|        6|loyalty_acquisition|  1.0|\n",
      "|customer_453|2021-10-30|        6|loyalty_acquisition|  1.0|\n",
      "|customer_535|2021-10-30|        6|loyalty_acquisition|  1.0|\n",
      "|customer_802|2021-10-30|        6|loyalty_acquisition|  1.0|\n",
      "|customer_330|2021-10-30|        6|loyalty_acquisition|  1.0|\n",
      "+------------+----------+---------+-------------------+-----+\n",
      "\n"
     ]
    }
   ],
   "source": [
    "df_metric_store = spark.table('df_metric_store').where(F.col('METRIC') == 'loyalty_acquisition')\n",
    "df_metric_store.show(5)"
   ]
  },
  {
   "cell_type": "markdown",
   "metadata": {},
   "source": [
    "### 3. Visualization\n",
    "We could have a single dash to visualize all data inside this Metric Store!\n",
    "\n",
    "Would not be a specialized dash, but could be very useful to quick data exploration. Some observations:\n",
    "- some plots make sense for one metric, but not for another\n",
    "- different metrics can have different aggregation functions (mean, sum, others)\n",
    "\n",
    "This could be parametrized in the metric store metadata"
   ]
  },
  {
   "cell_type": "code",
   "execution_count": 20,
   "metadata": {},
   "outputs": [],
   "source": [
    "def aggregate_filter(metric, variation = 'N/A', aggregation_type = 'sum', df_metric_store = df_metric_store):\n",
    "    \"\"\"\n",
    "    \n",
    "    Simple function that filters, aggregate and plot metric day by day.\n",
    "    A simple example showing that the store concept can ease data viz and exploration\n",
    "    \n",
    "    \"\"\"\n",
    "    df_metric_store = spark.sql(\"select * from df_metric_store\")\n",
    "    df_plot = df_metric_store.filter((F.col('METRIC') == metric) & (F.col('VARIATION') == variation)).select('DATE', 'VALUE')\n",
    "    if aggregation_type == 'sum':\n",
    "        df_plot = df_plot.groupby('DATE').sum('VALUE')\\\n",
    "                    .select(F.col(\"DATE\"),F.col(\"sum(VALUE)\").alias(metric))\n",
    "    elif aggregation_type == 'mean':\n",
    "        df_plot = df_plot.groupby('DATE').avg('VALUE')\\\n",
    "                    .select(F.col(\"DATE\"),F.col(\"avg(VALUE)\").alias(metric))\n",
    "\n",
    "    df_plot = df_plot.toPandas()\n",
    "    df_plot = df_plot.sort_values('DATE')\n",
    "    return df_plot\n",
    "    \n",
    "\n",
    "\n",
    "def my_simple_dash():\n",
    "    \"\"\"\n",
    "    \n",
    "    Some 'tabajara' dashboard\n",
    "    \n",
    "    \"\"\"\n",
    "    df_metric_store = spark.sql(\"select * from df_metric_store\")\n",
    "    all_metrics = df_metric_store.select('METRIC').distinct().toPandas()\n",
    "    all_metrics = list(all_metrics['METRIC'])\n",
    "    w = widgets.Dropdown(\n",
    "        options=all_metrics,\n",
    "        description='Metric:',\n",
    "        disabled=False,\n",
    "    )\n",
    "    def on_change(change):\n",
    "        if change['type'] == 'change' and change['name'] == 'value':\n",
    "            print(\"Visualizing %s\" % change['new'])\n",
    "            \n",
    "            df_plot = aggregate_filter(metric = change['new'])\n",
    "            df_plot.plot(x = 'DATE', y = change['new'])\n",
    "\n",
    "    w.observe(on_change)\n",
    "    return w"
   ]
  },
  {
   "cell_type": "code",
   "execution_count": 21,
   "metadata": {},
   "outputs": [
    {
     "data": {
      "application/vnd.jupyter.widget-view+json": {
       "model_id": "b172b340c09e47ebaaf2b7f1319bcd35",
       "version_major": 2,
       "version_minor": 0
      },
      "text/plain": [
       "Dropdown(description='Metric:', options=('sales', 'churn', 'web_navigation', 'loyalty_acquisition'), value='sa…"
      ]
     },
     "metadata": {},
     "output_type": "display_data"
    },
    {
     "name": "stdout",
     "output_type": "stream",
     "text": [
      "Visualizing churn\n"
     ]
    },
    {
     "name": "stderr",
     "output_type": "stream",
     "text": [
      "In C:\\Users\\Borba\\anaconda3\\lib\\site-packages\\matplotlib\\mpl-data\\stylelib\\_classic_test.mplstyle: \n",
      "The text.latex.preview rcparam was deprecated in Matplotlib 3.3 and will be removed two minor releases later.\n",
      "In C:\\Users\\Borba\\anaconda3\\lib\\site-packages\\matplotlib\\mpl-data\\stylelib\\_classic_test.mplstyle: \n",
      "The mathtext.fallback_to_cm rcparam was deprecated in Matplotlib 3.3 and will be removed two minor releases later.\n",
      "In C:\\Users\\Borba\\anaconda3\\lib\\site-packages\\matplotlib\\mpl-data\\stylelib\\_classic_test.mplstyle: Support for setting the 'mathtext.fallback_to_cm' rcParam is deprecated since 3.3 and will be removed two minor releases later; use 'mathtext.fallback : 'cm' instead.\n",
      "In C:\\Users\\Borba\\anaconda3\\lib\\site-packages\\matplotlib\\mpl-data\\stylelib\\_classic_test.mplstyle: \n",
      "The validate_bool_maybe_none function was deprecated in Matplotlib 3.3 and will be removed two minor releases later.\n",
      "In C:\\Users\\Borba\\anaconda3\\lib\\site-packages\\matplotlib\\mpl-data\\stylelib\\_classic_test.mplstyle: \n",
      "The savefig.jpeg_quality rcparam was deprecated in Matplotlib 3.3 and will be removed two minor releases later.\n",
      "In C:\\Users\\Borba\\anaconda3\\lib\\site-packages\\matplotlib\\mpl-data\\stylelib\\_classic_test.mplstyle: \n",
      "The keymap.all_axes rcparam was deprecated in Matplotlib 3.3 and will be removed two minor releases later.\n",
      "In C:\\Users\\Borba\\anaconda3\\lib\\site-packages\\matplotlib\\mpl-data\\stylelib\\_classic_test.mplstyle: \n",
      "The animation.avconv_path rcparam was deprecated in Matplotlib 3.3 and will be removed two minor releases later.\n",
      "In C:\\Users\\Borba\\anaconda3\\lib\\site-packages\\matplotlib\\mpl-data\\stylelib\\_classic_test.mplstyle: \n",
      "The animation.avconv_args rcparam was deprecated in Matplotlib 3.3 and will be removed two minor releases later.\n"
     ]
    },
    {
     "data": {
      "image/png": "[encoded data removed]",
      "text/plain": [
       "<Figure size 432x288 with 1 Axes>"
      ]
     },
     "metadata": {
      "needs_background": "light"
     },
     "output_type": "display_data"
    }
   ],
   "source": [
    "display(my_simple_dash())"
   ]
  },
  {
   "cell_type": "markdown",
   "metadata": {},
   "source": [
    "### 5. Models/ Functions Reuse\n",
    "Everything done with Metric Store is perfectly reused among many different Metrics.\n",
    "\n",
    "Simple example bellow with forecast, but could also be used in multiple applications - supervised learning, anomaly detection, others"
   ]
  },
  {
   "cell_type": "code",
   "execution_count": 22,
   "metadata": {},
   "outputs": [
    {
     "name": "stdout",
     "output_type": "stream",
     "text": [
      "                               SARIMAX Results                                \n",
      "==============================================================================\n",
      "Dep. Variable:                  sales   No. Observations:                   90\n",
      "Model:                 ARIMA(5, 1, 0)   Log Likelihood                -972.502\n",
      "Date:                Mon, 06 Dec 2021   AIC                           1957.004\n",
      "Time:                        13:27:30   BIC                           1971.936\n",
      "Sample:                    09-07-2021   HQIC                          1963.023\n",
      "                         - 12-05-2021                                         \n",
      "Covariance Type:                  opg                                         \n",
      "==============================================================================\n",
      "                 coef    std err          z      P>|z|      [0.025      0.975]\n",
      "------------------------------------------------------------------------------\n",
      "ar.L1         -0.0356      0.013     -2.740      0.006      -0.061      -0.010\n",
      "ar.L2         -0.0049      0.053     -0.092      0.927      -0.109       0.100\n",
      "ar.L3          0.0086      0.063      0.137      0.891      -0.115       0.132\n",
      "ar.L4          0.0226      0.049      0.463      0.643      -0.073       0.118\n",
      "ar.L5          0.0047      0.062      0.076      0.939      -0.117       0.126\n",
      "sigma2       8.95e+07   1.44e-10   6.22e+17      0.000    8.95e+07    8.95e+07\n",
      "===================================================================================\n",
      "Ljung-Box (Q):                       79.67   Jarque-Bera (JB):                 1.46\n",
      "Prob(Q):                              0.00   Prob(JB):                         0.48\n",
      "Heteroskedasticity (H):               0.99   Skew:                             0.30\n",
      "Prob(H) (two-sided):                  0.98   Kurtosis:                         3.21\n",
      "===================================================================================\n",
      "\n",
      "Warnings:\n",
      "[1] Covariance matrix calculated using the outer product of gradients (complex-step).\n",
      "[2] Covariance matrix is singular or near-singular, with condition number 1.43e+33. Standard errors may be unstable.\n"
     ]
    },
    {
     "name": "stderr",
     "output_type": "stream",
     "text": [
      "C:\\Users\\Borba\\anaconda3\\lib\\site-packages\\statsmodels\\tsa\\base\\tsa_model.py:162: ValueWarning: No frequency information was provided, so inferred frequency D will be used.\n",
      "  % freq, ValueWarning)\n",
      "C:\\Users\\Borba\\anaconda3\\lib\\site-packages\\statsmodels\\tsa\\base\\tsa_model.py:162: ValueWarning: No frequency information was provided, so inferred frequency D will be used.\n",
      "  % freq, ValueWarning)\n",
      "C:\\Users\\Borba\\anaconda3\\lib\\site-packages\\statsmodels\\tsa\\base\\tsa_model.py:162: ValueWarning: No frequency information was provided, so inferred frequency D will be used.\n",
      "  % freq, ValueWarning)\n"
     ]
    },
    {
     "data": {
      "text/plain": [
       "<statsmodels.tsa.arima.model.ARIMAResultsWrapper at 0x2820d069288>"
      ]
     },
     "execution_count": 22,
     "metadata": {},
     "output_type": "execute_result"
    }
   ],
   "source": [
    "def simple_forecast(metric):\n",
    "    \"\"\"\n",
    "    \n",
    "    Simple \"forecast\" for illustration purpose. \n",
    "    \n",
    "    Obs.: Not a recommendation of how to do forecasts!\n",
    "    \n",
    "    \"\"\"\n",
    "    from statsmodels.tsa.arima.model import ARIMA\n",
    "    series = aggregate_filter(metric = metric)\n",
    "    series.index = series['DATE']\n",
    "    series = series[metric]\n",
    "    model = ARIMA(series, order=(5,1,0))\n",
    "    model_fit = model.fit()\n",
    "\n",
    "    print(model_fit.summary())\n",
    "    return model_fit\n",
    "\n",
    "simple_forecast(metric = 'sales')"
   ]
  },
  {
   "cell_type": "markdown",
   "metadata": {},
   "source": [
    "### 6. Customer Interaction Data\n",
    "Useful for experimentation and quasi-experimentation"
   ]
  },
  {
   "cell_type": "code",
   "execution_count": 23,
   "metadata": {},
   "outputs": [
    {
     "name": "stdout",
     "output_type": "stream",
     "text": [
      "+----------+------+-------+-----------+-------+--------------------+--------------------+--------------------+\n",
      "|  CAMPAIGN|METRIC|   TYPE|GRANULARITY|CHANNEL|         RESPONSIBLE|         DESCRIPTION|          HYPOTHESIS|\n",
      "+----------+------+-------+-----------+-------+--------------------+--------------------+--------------------+\n",
      "|campaign_x| sales|ab test|   CUSTOMER|   push|xxxx@yourcompany.com|Just a dummy expe...|Sending xxxx will...|\n",
      "+----------+------+-------+-----------+-------+--------------------+--------------------+--------------------+\n",
      "\n"
     ]
    }
   ],
   "source": [
    "def create_experimentation_metadata():\n",
    "    \"\"\"\n",
    "    \n",
    "    Table with Metadata from all experiments and quasi-experiments in your company.\n",
    "    \n",
    "    Initing with dummy values.\n",
    "    \n",
    "    \"\"\"\n",
    "    df_experim = spark.createDataFrame(pd.DataFrame.from_dict({'CAMPAIGN': ['campaign_x'], 'METRIC': ['sales'], 'TYPE': ['ab test'], 'GRANULARITY': ['CUSTOMER'], 'CHANNEL': ['push'], 'RESPONSIBLE': ['xxxx@yourcompany.com'], 'DESCRIPTION': ['Just a dummy experiment.'], 'HYPOTHESIS': ['Sending xxxx will increase customer yyyy by zzzz']}))\n",
    "    df_experim.write.mode(\"overwrite\").saveAsTable(\"df_experim\")\n",
    "\n",
    "create_experimentation_metadata()\n",
    "df_experim = spark.sql(\"select * from df_experim\")\n",
    "df_experim.show()"
   ]
  },
  {
   "cell_type": "code",
   "execution_count": 24,
   "metadata": {
    "scrolled": true
   },
   "outputs": [
    {
     "name": "stdout",
     "output_type": "stream",
     "text": [
      "+------------+----------+-------+----------+----------+\n",
      "|    CUSTOMER|      DATE|  GROUP|      TYPE|  CAMPAIGN|\n",
      "+------------+----------+-------+----------+----------+\n",
      "|customer_110|2021-10-04|control|experiment|campaign_x|\n",
      "+------------+----------+-------+----------+----------+\n",
      "\n"
     ]
    }
   ],
   "source": [
    "def create_customer_interaction():\n",
    "    \"\"\"\n",
    "    \n",
    "    Table with customer interaction - init with dummy data\n",
    "    \n",
    "    \"\"\"\n",
    "    df_customer_interaction = spark.createDataFrame(pd.DataFrame.from_dict({'CUSTOMER': ['customer_110'], 'DATE': ['2021-10-04'], 'GROUP': ['control'], 'TYPE': ['experiment'], 'CAMPAIGN': 'campaign_x'}))\n",
    "    df_customer_interaction.write.mode(\"overwrite\").saveAsTable(\"df_customer_interaction\")\n",
    "\n",
    "create_customer_interaction()\n",
    "df_customer_interaction = spark.sql(\"select * from df_customer_interaction\")\n",
    "df_customer_interaction.show()"
   ]
  },
  {
   "cell_type": "code",
   "execution_count": 25,
   "metadata": {},
   "outputs": [
    {
     "name": "stdout",
     "output_type": "stream",
     "text": [
      "+--------+------+----+------+--------+\n",
      "|CAMPAIGN|METRIC|LIFT|PVALUE|COMMENTS|\n",
      "+--------+------+----+------+--------+\n",
      "|   dummy| dummy|   0|   0.5|     N/A|\n",
      "+--------+------+----+------+--------+\n",
      "\n"
     ]
    }
   ],
   "source": [
    "def create_experimentation_results():\n",
    "    \"\"\"\n",
    "    \n",
    "    Table with experimentation results - init with dummy data\n",
    "    \n",
    "    Store all results from experiments, as soon as the analysis is run!\n",
    "    \n",
    "    \"\"\"\n",
    "    df_experiment_result = spark.createDataFrame(pd.DataFrame.from_dict({'CAMPAIGN': ['dummy'], 'METRIC': ['dummy'], 'LIFT': [0], 'PVALUE': [0.5], 'COMMENTS': ['N/A']}))\n",
    "    df_experiment_result.write.mode(\"overwrite\").saveAsTable(\"df_experiment_result\")\n",
    "\n",
    "create_experimentation_results()\n",
    "df_experiment_result = spark.sql(\"select * from df_experiment_result\")\n",
    "df_experiment_result.show()"
   ]
  },
  {
   "cell_type": "code",
   "execution_count": 26,
   "metadata": {},
   "outputs": [
    {
     "name": "stdout",
     "output_type": "stream",
     "text": [
      "+--------------------+------+-------+-----------+-------+--------------------+--------------------+--------------------+\n",
      "|            CAMPAIGN|METRIC|   TYPE|GRANULARITY|CHANNEL|         RESPONSIBLE|         DESCRIPTION|          HYPOTHESIS|\n",
      "+--------------------+------+-------+-----------+-------+--------------------+--------------------+--------------------+\n",
      "|test_black_friday...| sales|ab test|   customer|  email|xxxx@yourcompany.com|Push with coupons...|Sending customers...|\n",
      "|          campaign_x| sales|ab test|   CUSTOMER|   push|xxxx@yourcompany.com|Just a dummy expe...|Sending xxxx will...|\n",
      "+--------------------+------+-------+-----------+-------+--------------------+--------------------+--------------------+\n",
      "\n"
     ]
    }
   ],
   "source": [
    "def register_experiment(exp_metadata):\n",
    "    \"\"\"\n",
    "    Run to register a new experiment or quasi-experiment. Include all relevant info for a proper governance\n",
    "    \n",
    "    Append data to table: df_experim\n",
    "    \n",
    "    \"\"\"\n",
    "    #global df_experim\n",
    "    df_experim = spark.sql(\"select * from df_experim\")\n",
    "    exp_metadata = pd.DataFrame.from_dict(exp_metadata)\n",
    "    df_experim_this = spark.createDataFrame(exp_metadata)\n",
    "    df_experim = df_experim_this.union(df_experim)\n",
    "    save_table(df_experim, \"df_experim\")\n",
    "\n",
    "exp_metadata = {'CAMPAIGN': ['test_black_friday_001'], 'METRIC': ['sales'], 'TYPE': ['ab test'], 'GRANULARITY': ['customer'], 'CHANNEL': ['email'], 'RESPONSIBLE': ['xxxx@yourcompany.com'], 'DESCRIPTION': ['Push with coupons for active customers, aiming at increasing sales for treatment group. MDE of 1%.'], 'HYPOTHESIS': ['Sending customers coupons, via push, will result in a lift in sales that overcome the costs of coupons']}\n",
    "register_experiment(exp_metadata)\n",
    "df_experim = spark.sql(\"select * from df_experim\")\n",
    "df_experim.show()"
   ]
  },
  {
   "cell_type": "code",
   "execution_count": 27,
   "metadata": {},
   "outputs": [
    {
     "name": "stdout",
     "output_type": "stream",
     "text": [
      "+------------+----------+---------+----------+--------------------+\n",
      "|    CUSTOMER|      DATE|    GROUP|      TYPE|            CAMPAIGN|\n",
      "+------------+----------+---------+----------+--------------------+\n",
      "| customer_76|2021-10-04|treatment|experiment|test_black_friday...|\n",
      "| customer_11|2021-10-04|  control|experiment|test_black_friday...|\n",
      "|customer_110|2021-10-04|  control|experiment|          campaign_x|\n",
      "+------------+----------+---------+----------+--------------------+\n",
      "\n"
     ]
    }
   ],
   "source": [
    "def add_customer_interaction(df_experim_this, campaign, type_interaction = 'experiment'):\n",
    "    \"\"\"\n",
    "    Add each customer interaction (ab test/ quasi experimentation data)\n",
    "    \n",
    "    Append data to df_customer_interaction\n",
    "    \n",
    "    \"\"\"\n",
    "    #global df_customer_interaction\n",
    "    df_customer_interaction = spark.sql(\"select * from df_customer_interaction\")\n",
    "    \n",
    "    if type(df_experim_this) == dict:\n",
    "        df_experim_this = pd.DataFrame.from_dict(df_experim_this)\n",
    "        df_experim_this = spark.createDataFrame(df_experim_this)\n",
    "    elif type(df_experim_this) == pyspark.sql.dataframe.DataFrame:\n",
    "        pass\n",
    "    else:\n",
    "        print('Type not valid')\n",
    "        return -1\n",
    "    \n",
    "    df_experim_this = df_experim_this.withColumn('TYPE', F.lit(type_interaction))\n",
    "    df_experim_this = df_experim_this.withColumn('CAMPAIGN', F.lit(campaign))\n",
    "    \n",
    "    df_customer_interaction = df_experim_this.union(df_customer_interaction)\n",
    "    save_table(df_customer_interaction, \"df_customer_interaction\")\n",
    "\n",
    "exp_interact = {'CUSTOMER': ['customer_11', 'customer_76'], 'DATE': ['2021-10-04', '2021-10-04'], 'GROUP': ['control', 'treatment']}\n",
    "add_customer_interaction(exp_interact, campaign = 'test_black_friday_001')\n",
    "df_customer_interaction = spark.sql(\"select * from df_customer_interaction\")\n",
    "df_customer_interaction.show()"
   ]
  },
  {
   "cell_type": "markdown",
   "metadata": {},
   "source": [
    "Note that, with the info available in experiments and metric store tables, we have all the information needed to know what was the metric behavior before and after some customer interaction, for each of the customers in each group. \n",
    "\n",
    "To get data from any kind of initiative with customer level information, we could use a function like that:"
   ]
  },
  {
   "cell_type": "code",
   "execution_count": 28,
   "metadata": {},
   "outputs": [
    {
     "name": "stdout",
     "output_type": "stream",
     "text": [
      "+-----------+----------+---------+------+-----+---------+\n",
      "|   CUSTOMER|      DATE|DIFF_DAYS|METRIC|VALUE|    GROUP|\n",
      "+-----------+----------+---------+------+-----+---------+\n",
      "|customer_11|2021-10-11|        7| sales|528.0|  control|\n",
      "|customer_76|2021-10-09|        5| sales|709.0|treatment|\n",
      "|customer_11|2021-10-05|        1| sales|677.0|  control|\n",
      "|customer_76|2021-10-07|        3| sales|402.0|treatment|\n",
      "|customer_76|2021-10-06|        2| sales|656.0|treatment|\n",
      "|customer_11|2021-10-08|        4| sales|145.0|  control|\n",
      "|customer_11|2021-10-09|        5| sales| 57.0|  control|\n",
      "|customer_76|2021-10-04|        0| sales|580.0|treatment|\n",
      "|customer_76|2021-10-10|        6| sales|319.0|treatment|\n",
      "|customer_11|2021-10-06|        2| sales|840.0|  control|\n",
      "|customer_11|2021-10-13|        9| sales|783.0|  control|\n",
      "|customer_76|2021-10-14|       10| sales|363.0|treatment|\n",
      "|customer_76|2021-10-13|        9| sales|187.0|treatment|\n",
      "|customer_76|2021-10-12|        8| sales|293.0|treatment|\n",
      "|customer_11|2021-10-04|        0| sales|756.0|  control|\n",
      "|customer_11|2021-10-10|        6| sales|135.0|  control|\n",
      "|customer_11|2021-10-14|       10| sales|205.0|  control|\n",
      "|customer_11|2021-10-07|        3| sales|704.0|  control|\n",
      "|customer_11|2021-10-12|        8| sales|875.0|  control|\n",
      "|customer_76|2021-10-05|        1| sales| 55.0|treatment|\n",
      "+-----------+----------+---------+------+-----+---------+\n",
      "only showing top 20 rows\n",
      "\n"
     ]
    }
   ],
   "source": [
    "def get_experiment_data(campaign, min_range = 0, max_range = 10):\n",
    "    \"\"\"\n",
    "    Join information from experiment and metric store.\n",
    "    \n",
    "    Default: return all info from 0 to 10 days after interaction (min_range=0 and max_range=10). \n",
    "    \n",
    "    For pre-post analysis, for example, change parameters to, for example, min_range=-10 and max_range=10\n",
    "    \n",
    "    \"\"\"\n",
    "\n",
    "    df_experim = spark.sql(\"select * from df_experim\")\n",
    "    df_customer_interaction = spark.sql(\"select * from df_customer_interaction\")\n",
    "    df_metric_store = spark.sql(\"select * from df_metric_store\")\n",
    "    \n",
    "    \n",
    "    df_customer_interaction_this = df_customer_interaction.alias('df_customer_interaction_this')\n",
    "    \n",
    "    df_customer_interaction_this = df_customer_interaction_this.where(F.col('CAMPAIGN') == campaign)\n",
    "    df_customer_interaction_this = df_customer_interaction_this.withColumn('DATE_min', F.date_add(F.col('DATE'), -min_range))\n",
    "    df_customer_interaction_this = df_customer_interaction_this.withColumn('DATE_max', F.date_add(F.col('DATE'), max_range))\n",
    "\n",
    "    df_customer_interaction_this = df_customer_interaction_this.withColumnRenamed('CUSTOMER', 'CUSTOMER_exp')\n",
    "    df_customer_interaction_this = df_customer_interaction_this.withColumnRenamed('DATE', 'DATE_exp')\n",
    "    df_experim = df_experim.withColumnRenamed('METRIC', 'METRIC_meta')\n",
    "\n",
    "    # Filter metrics as listed in metadata\n",
    "    df_metric_store_this = df_metric_store.join(df_experim, (df_metric_store.METRIC == df_experim.METRIC_meta))\n",
    "\n",
    "    df_camp = df_metric_store_this.join(df_customer_interaction_this, (df_metric_store_this.DATE >= df_customer_interaction_this.DATE_min) &\\\n",
    "                                   (df_metric_store_this.DATE <= df_customer_interaction_this.DATE_max) &\\\n",
    "                                   (df_metric_store_this.CUSTOMER == df_customer_interaction_this.CUSTOMER_exp), how = 'inner')\n",
    "    \n",
    "    df_camp = df_camp.withColumn(\"DIFF_DAYS\", F.datediff(F.col(\"DATE\"),F.col(\"DATE_exp\")))\n",
    "\n",
    "    df_camp = df_camp.select(['CUSTOMER', 'DATE', 'DIFF_DAYS', 'METRIC', 'VALUE', 'GROUP'])\n",
    "    df_camp = df_camp.dropDuplicates()\n",
    "    return df_camp\n",
    "\n",
    "df_camp = get_experiment_data(campaign = 'test_black_friday_001')\n",
    "df_camp.show()"
   ]
  },
  {
   "cell_type": "markdown",
   "metadata": {},
   "source": [
    "### 7. Experiments\n",
    "Now, hypothesis test and quasi-experiments can be run with this data"
   ]
  },
  {
   "cell_type": "code",
   "execution_count": 29,
   "metadata": {},
   "outputs": [
    {
     "name": "stdout",
     "output_type": "stream",
     "text": [
      "For this campaign, the difference between treatment and control was: -129.55 with a p-value of 0.282\n"
     ]
    }
   ],
   "source": [
    "def hypothesis_test(campaign):\n",
    "    from scipy import stats\n",
    "    \"\"\"\n",
    "    \n",
    "    Simple Hypothesis testing exa\n",
    "    mple\n",
    "    \n",
    "    \"\"\"\n",
    "    df_camp = get_experiment_data(campaign = campaign)\n",
    "    df_abtest=df_camp[['GROUP', 'VALUE']].toPandas()\n",
    "    \n",
    "    treatment = df_abtest.loc[df_abtest['GROUP'] == 'treatment', 'VALUE']\n",
    "    control = df_abtest.loc[df_abtest['GROUP'] == 'control', 'VALUE']\n",
    "    diff_averages = treatment.mean() - control.mean()\n",
    "    \n",
    "    t2, pval = stats.ttest_ind(control,treatment)\n",
    "    print(f'For this campaign, the difference between treatment and control was: {round(diff_averages, 2)} with a p-value of {round(pval, 3)}')\n",
    "    return diff_averages, pval\n",
    "\n",
    "campaign = 'test_black_friday_001'\n",
    "diff_averages, pval = hypothesis_test(campaign = campaign)\n"
   ]
  },
  {
   "cell_type": "code",
   "execution_count": 30,
   "metadata": {},
   "outputs": [
    {
     "name": "stdout",
     "output_type": "stream",
     "text": [
      "+--------------------+------+----+------------------+--------------------+\n",
      "|            CAMPAIGN|METRIC|LIFT|            PVALUE|            COMMENTS|\n",
      "+--------------------+------+----+------------------+--------------------+\n",
      "|test_black_friday...| sales|-129|0.2821153791072286|Results obtained ...|\n",
      "|               dummy| dummy|   0|               0.5|                 N/A|\n",
      "+--------------------+------+----+------------------+--------------------+\n",
      "\n"
     ]
    }
   ],
   "source": [
    "# Table with experiments results\n",
    "def register_experiment_results(exp_results):\n",
    "    \"\"\"\n",
    "    Run to register a new experiment or quasi-experiment. Include all relevant info for a proper governance\n",
    "    \n",
    "    Append data to table df_experiment_result\n",
    "    \n",
    "    \"\"\"\n",
    "\n",
    "    df_experiment_result = spark.sql(\"select * from df_experiment_result\")\n",
    "    \n",
    "    exp_results = pd.DataFrame.from_dict(exp_results)\n",
    "    exp_results_this = spark.createDataFrame(exp_results)\n",
    "    df_experiment_result = exp_results_this.union(df_experiment_result)\n",
    "    save_table(df_experiment_result, \"df_experiment_result\")\n",
    "\n",
    "# After analysis, add results in a experiment result table\n",
    "exp_results = {'CAMPAIGN': [campaign], 'METRIC': ['sales'], 'LIFT': [diff_averages], 'PVALUE': [pval], 'COMMENTS': ['Results obtained xxxx']}\n",
    "register_experiment_results(exp_results)\n",
    "df_experiment_result = spark.sql(\"select * from df_experiment_result\")\n",
    "df_experiment_result.show()"
   ]
  },
  {
   "cell_type": "code",
   "execution_count": 31,
   "metadata": {},
   "outputs": [
    {
     "name": "stdout",
     "output_type": "stream",
     "text": [
      "Analyzing influence of loyalty_acquisition 6 in metric sales, using web_navigation https://www.mercadolivre.com.br/assinaturas/nivel-6 as reference. Using all events between 2021-10-30 and 2021-10-30 and considering target metric 10 days before and after the event.\n",
      "Average Estimated Effect: 16.04, p-value: 1.0\n"
     ]
    }
   ],
   "source": [
    "# Quasi-experiment example: diff in diff applied to Loyalty lvl 6, using as reference customers that navigates in loyalty level 6 acquisition page.\n",
    "# For diff-in-diff, need to know: Date Range, Window size, control metric, treatment metric, target metric\n",
    "\n",
    "def diff_in_diff(analysis_name, description, hypothesis, responsible, target_metric, data_rage, control_metric, control_variation, treat_metric, treat_variation, channel, window_size = 10, granularity = 'customer'):\n",
    "\n",
    "    \"\"\"\n",
    "    \n",
    "    Quasi-experiment using the data of experiments + metric store. Other observational models can also be used, besides diff-in-diff\n",
    "    \n",
    "    \n",
    "    \"\"\"\n",
    "    from pyspark.ml.regression import GeneralizedLinearRegression\n",
    "    # First, register a new observation on experiment datadata\n",
    "    exp_metadata = {'CAMPAIGN': [analysis_name], 'METRIC': [target_metric], 'TYPE': ['observational'], 'GRANULARITY': [granularity], 'CHANNEL': [channel], 'RESPONSIBLE': [responsible], 'DESCRIPTION': [description], 'HYPOTHESIS': [hypothesis]}\n",
    "    register_experiment(exp_metadata)\n",
    "    \n",
    "    df_metric_store = spark.sql(\"select * from df_metric_store\")\n",
    "    \n",
    "    # Defining the 'control' group: everyone that navigates in the webpage during the date range specified\n",
    "    df_control = df_metric_store.where((F.col('METRIC') == control_metric) &\\\n",
    "                                       (F.col('VARIATION') == control_variation) &\\\n",
    "                                      (F.col('DATE') >= F.lit(data_rage[0])) &\\\n",
    "                                       (F.col('DATE') <= F.lit(data_rage[1])))\n",
    "    df_control = df_control.withColumn('GROUP', F.lit('control'))\n",
    "    df_control = df_control.select(['CUSTOMER', 'DATE', 'GROUP'])\n",
    "    \n",
    "    # Defining the 'treatment' group: everyone that purchase loyalty 6\n",
    "    df_treat= df_metric_store.where((F.col('METRIC') == treat_metric) &\\\n",
    "                                       (F.col('VARIATION') == treat_variation) &\\\n",
    "                                      (F.col('DATE') >= F.lit(data_rage[0])) &\\\n",
    "                                       (F.col('DATE') <= F.lit(data_rage[1])))\n",
    "\n",
    "    df_treat = df_treat.withColumn('GROUP', F.lit('treatment'))\n",
    "    df_treat = df_treat.select(['CUSTOMER', 'DATE', 'GROUP'])\n",
    "    \n",
    "    # Log customer information on customer interaction table\n",
    "    df_quasi_exp = df_treat.union(df_control)\n",
    "    add_customer_interaction(df_quasi_exp, campaign = analysis_name, type_interaction = 'observational')\n",
    "    \n",
    "    # Get all information from target metric\n",
    "    filter_quasi_exp = get_experiment_data(campaign = analysis_name,  min_range = -window_size, max_range = window_size)\n",
    "    \n",
    "    # Create diff in diff features\n",
    "    filter_quasi_exp = filter_quasi_exp.withColumn('after', F.when(F.col('DIFF_DAYS') >= 0, 1).otherwise(0))\n",
    "    filter_quasi_exp = filter_quasi_exp.withColumn('treat', F.when(F.col('GROUP') == 'treatment', 1).otherwise(0))\n",
    "    filter_quasi_exp = filter_quasi_exp.withColumn('after_treat', F.col('after') * F.col('treat'))\n",
    "\n",
    "    # Create data frame for linear model\n",
    "    vectorAssembler = VectorAssembler(inputCols = ['after', 'treat', 'after_treat'], outputCol = 'features')\n",
    "    df_model = vectorAssembler.transform(filter_quasi_exp)\n",
    "    df_model = df_model.select(['features', 'VALUE'])\n",
    "    \n",
    "    # Run model\n",
    "    #glr = GeneralizedLinearRegression(family=\"gaussian\", link=\"identity\", maxIter=10, regParam=0.3)\n",
    "    lr=GeneralizedLinearRegression(featuresCol = 'features', labelCol='VALUE',family=\"gaussian\",maxIter=10,regParam=0.3)\n",
    "    #lr = LinearRegression(featuresCol = 'features', labelCol='VALUE', maxIter=10, regParam=0.3, elasticNetParam=0.8)\n",
    "    lr_model = lr.fit(df_model)\n",
    "    \n",
    "    # Printing Results\n",
    "    print(f\"Analyzing influence of {treat_metric} {treat_variation} in metric {target_metric}, using {control_metric} {control_variation} as reference. Using all events between {data_rage[0]} and {data_rage[1]} and considering target metric {window_size} days before and after the event.\")\n",
    "\n",
    "    \n",
    "    ave_lift = round(lr_model.coefficients[2],2)\n",
    "    pvalue = round(lr_model.summary.pValues[2],2)\n",
    "    print(f'Average Estimated Effect: {ave_lift}, p-value: {pvalue}')\n",
    "    \n",
    "    \n",
    "    exp_results = {'CAMPAIGN': [analysis_name], 'METRIC': [target_metric], 'LIFT': [ave_lift], 'PVALUE': [pvalue], 'COMMENTS': ['Results obtained From Diff-in-Diff on 2021-06-12']}\n",
    "    register_experiment_results(exp_results)\n",
    "\n",
    "    \n",
    "    return lr_model\n",
    "    \n",
    "    \n",
    "dict_input_quasi={\n",
    "    'analysis_name': 'loyalty_lvl6_analysis',\n",
    "    'description': 'Observational Analysis of Loyalty Lvl 6, given navigation in signature webpage.',\n",
    "    'hypothesis': 'People that acquired loyalty lvl6 increase sales',\n",
    "    'responsible': 'xxxx@yourcompany.com',\n",
    "    'target_metric': 'sales',\n",
    "    'data_rage': ['2021-10-30', '2021-10-30'],\n",
    "    'control_metric': 'web_navigation',\n",
    "    'control_variation': 'https://www.mercadolivre.com.br/assinaturas/nivel-6',\n",
    "    'treat_metric': 'loyalty_acquisition',\n",
    "    'treat_variation': '6',\n",
    "    'channel': 'web'\n",
    "}\n",
    "\n",
    "\n",
    "lr_model = diff_in_diff(**dict_input_quasi)"
   ]
  },
  {
   "cell_type": "code",
   "execution_count": 32,
   "metadata": {},
   "outputs": [
    {
     "name": "stdout",
     "output_type": "stream",
     "text": [
      "+--------------------+------+-------------+--------------------+--------------------+----+------------------+--------------------+\n",
      "|            CAMPAIGN|METRIC|         TYPE|         RESPONSIBLE|         DESCRIPTION|LIFT|            PVALUE|            COMMENTS|\n",
      "+--------------------+------+-------------+--------------------+--------------------+----+------------------+--------------------+\n",
      "|test_black_friday...| sales|      ab test|xxxx@yourcompany.com|Push with coupons...|-129|0.2821153791072286|Results obtained ...|\n",
      "|loyalty_lvl6_anal...| sales|observational|xxxx@yourcompany.com|Observational Ana...|  16|               1.0|Results obtained ...|\n",
      "|          campaign_x| sales|      ab test|xxxx@yourcompany.com|Just a dummy expe...|null|              null|                null|\n",
      "+--------------------+------+-------------+--------------------+--------------------+----+------------------+--------------------+\n",
      "\n"
     ]
    }
   ],
   "source": [
    "# See that diff-in-diff call save information in experiment result with TYPE = 'observational'\n",
    "\n",
    "df_experiment_result = spark.sql(\"select * from df_experiment_result\")\n",
    "df_experim = spark.sql(\"select * from df_experim\")\n",
    "df_exp_diff = df_experim.join(df_experiment_result, ['CAMPAIGN', 'METRIC'], how = 'left')\n",
    "df_exp_diff = df_exp_diff.select(['CAMPAIGN', 'METRIC', 'TYPE', 'RESPONSIBLE', 'DESCRIPTION', 'LIFT', 'PVALUE', 'COMMENTS'])\n",
    "df_exp_diff.show()\n"
   ]
  },
  {
   "cell_type": "markdown",
   "metadata": {},
   "source": [
    "### 8. Example - Knowledge Management\n",
    "Example of how this architecture could improve experimentation and analysis governance and knowledge management.\n",
    "\n",
    "For example, if your goal is to increase 'sales', you can access all previous experiments and measurements that used 'sales' as metric, using push as channel"
   ]
  },
  {
   "cell_type": "code",
   "execution_count": 33,
   "metadata": {},
   "outputs": [
    {
     "name": "stdout",
     "output_type": "stream",
     "text": [
      "+----------+------+-------+-----------+-------+--------------------+--------------------+--------------------+------+----+------+--------+\n",
      "|  CAMPAIGN|METRIC|   TYPE|GRANULARITY|CHANNEL|         RESPONSIBLE|         DESCRIPTION|          HYPOTHESIS|METRIC|LIFT|PVALUE|COMMENTS|\n",
      "+----------+------+-------+-----------+-------+--------------------+--------------------+--------------------+------+----+------+--------+\n",
      "|campaign_x| sales|ab test|   CUSTOMER|   push|xxxx@yourcompany.com|Just a dummy expe...|Sending xxxx will...|  null|null|  null|    null|\n",
      "+----------+------+-------+-----------+-------+--------------------+--------------------+--------------------+------+----+------+--------+\n",
      "\n"
     ]
    }
   ],
   "source": [
    "def get_filtered_experiments(query_experiment_metri, query_experiment_channel):\n",
    "    df_experim = spark.sql(\"select * from df_experim\")\n",
    "    df_experim_filter = df_experim.where((F.col('METRIC') == query_experiment_metri) & (F.col('CHANNEL') == query_experiment_channel))\n",
    "    df_experim_filter = df_experim_filter.join(df_experiment_result, ['CAMPAIGN'], how = 'left')                            \n",
    "    return df_experim_filter\n",
    "\n",
    "filter_exp = get_filtered_experiments(query_experiment_metri = 'sales', query_experiment_channel = 'push')\n",
    "filter_exp.show()"
   ]
  },
  {
   "cell_type": "markdown",
   "metadata": {},
   "source": [
    "### 4. Checking a customer Life\n",
    "Having everything in a single table facilitates questions like: 'show me everything customer X in the last Y days'.\n",
    "Very handful for CRM, customer support, customers LTV/clusterization"
   ]
  },
  {
   "cell_type": "code",
   "execution_count": 34,
   "metadata": {},
   "outputs": [
    {
     "data": {
      "text/html": [
       "<div>\n",
       "<style scoped>\n",
       "    .dataframe tbody tr th:only-of-type {\n",
       "        vertical-align: middle;\n",
       "    }\n",
       "\n",
       "    .dataframe tbody tr th {\n",
       "        vertical-align: top;\n",
       "    }\n",
       "\n",
       "    .dataframe thead th {\n",
       "        text-align: right;\n",
       "    }\n",
       "</style>\n",
       "<table border=\"1\" class=\"dataframe\">\n",
       "  <thead>\n",
       "    <tr style=\"text-align: right;\">\n",
       "      <th></th>\n",
       "      <th>DATE</th>\n",
       "      <th>METRIC</th>\n",
       "      <th>VALUE</th>\n",
       "    </tr>\n",
       "  </thead>\n",
       "  <tbody>\n",
       "    <tr>\n",
       "      <th>0</th>\n",
       "      <td>2021-09-07</td>\n",
       "      <td>churn</td>\n",
       "      <td>0.663</td>\n",
       "    </tr>\n",
       "    <tr>\n",
       "      <th>90</th>\n",
       "      <td>2021-09-07</td>\n",
       "      <td>sales</td>\n",
       "      <td>230.000</td>\n",
       "    </tr>\n",
       "    <tr>\n",
       "      <th>91</th>\n",
       "      <td>2021-09-08</td>\n",
       "      <td>sales</td>\n",
       "      <td>322.000</td>\n",
       "    </tr>\n",
       "    <tr>\n",
       "      <th>1</th>\n",
       "      <td>2021-09-08</td>\n",
       "      <td>churn</td>\n",
       "      <td>0.166</td>\n",
       "    </tr>\n",
       "    <tr>\n",
       "      <th>2</th>\n",
       "      <td>2021-09-09</td>\n",
       "      <td>churn</td>\n",
       "      <td>0.704</td>\n",
       "    </tr>\n",
       "    <tr>\n",
       "      <th>...</th>\n",
       "      <td>...</td>\n",
       "      <td>...</td>\n",
       "      <td>...</td>\n",
       "    </tr>\n",
       "    <tr>\n",
       "      <th>87</th>\n",
       "      <td>2021-12-03</td>\n",
       "      <td>churn</td>\n",
       "      <td>0.508</td>\n",
       "    </tr>\n",
       "    <tr>\n",
       "      <th>178</th>\n",
       "      <td>2021-12-04</td>\n",
       "      <td>sales</td>\n",
       "      <td>379.000</td>\n",
       "    </tr>\n",
       "    <tr>\n",
       "      <th>88</th>\n",
       "      <td>2021-12-04</td>\n",
       "      <td>churn</td>\n",
       "      <td>0.316</td>\n",
       "    </tr>\n",
       "    <tr>\n",
       "      <th>89</th>\n",
       "      <td>2021-12-05</td>\n",
       "      <td>churn</td>\n",
       "      <td>0.838</td>\n",
       "    </tr>\n",
       "    <tr>\n",
       "      <th>179</th>\n",
       "      <td>2021-12-05</td>\n",
       "      <td>sales</td>\n",
       "      <td>696.000</td>\n",
       "    </tr>\n",
       "  </tbody>\n",
       "</table>\n",
       "<p>180 rows × 3 columns</p>\n",
       "</div>"
      ],
      "text/plain": [
       "           DATE METRIC    VALUE\n",
       "0    2021-09-07  churn    0.663\n",
       "90   2021-09-07  sales  230.000\n",
       "91   2021-09-08  sales  322.000\n",
       "1    2021-09-08  churn    0.166\n",
       "2    2021-09-09  churn    0.704\n",
       "..          ...    ...      ...\n",
       "87   2021-12-03  churn    0.508\n",
       "178  2021-12-04  sales  379.000\n",
       "88   2021-12-04  churn    0.316\n",
       "89   2021-12-05  churn    0.838\n",
       "179  2021-12-05  sales  696.000\n",
       "\n",
       "[180 rows x 3 columns]"
      ]
     },
     "execution_count": 34,
     "metadata": {},
     "output_type": "execute_result"
    }
   ],
   "source": [
    "def give_all_customer_history(customer, variation = 'N/A'):\n",
    "    \"\"\"\n",
    "    \n",
    "    Simple query to return all data from a customer\n",
    "    \n",
    "    \"\"\"\n",
    "    df_metric_store = spark.sql(\"select * from df_metric_store\")\n",
    "    df_metric = df_metric_store.filter((F.col('CUSTOMER') == customer) & (F.col('VARIATION') == variation)).select('DATE', 'METRIC','VALUE')\n",
    "    df_metric = df_metric.toPandas()\n",
    "    df_metric = df_metric.sort_values('DATE')\n",
    "    return df_metric\n",
    "\n",
    "give_all_customer_history(customer = 'customer_11')"
   ]
  },
  {
   "cell_type": "markdown",
   "metadata": {},
   "source": [
    "### 9. Scheduling Queries\n",
    "With metadata and governance table, find bellow a simple loop that could be used to run the queries, according to the field QUERY and FREQUENCY"
   ]
  },
  {
   "cell_type": "code",
   "execution_count": 35,
   "metadata": {},
   "outputs": [
    {
     "name": "stdout",
     "output_type": "stream",
     "text": [
      "Valid Metrics:\n",
      "  METRIC      TYPE           RESPONSIBLE  \\\n",
      "0  sales  business  xxxx@yourcompany.com   \n",
      "\n",
      "                                         DESCRIPTION  FREQUENCY  \\\n",
      "0  Total sales of a given customer across all cha...  0 8 * * *   \n",
      "\n",
      "                                           QUERY    STATUS  \n",
      "0  select ....from db.customer join ... where...  Approved  \n"
     ]
    }
   ],
   "source": [
    "# Finally, my process would run something like\n",
    "def my_dummy_query_runner():\n",
    "    import time\n",
    "    \n",
    "    # Check what metrics are with status \"Approved\"\n",
    "    run_this_metrics = df_metadata.join(df_metricgov.where(F.col('STATUS') == 'Approved'), ['METRIC', 'TYPE'], how = 'inner').toPandas()\n",
    "    \n",
    "    def start_a_parallel_etl_job(query):\n",
    "        # Start your ETL process in parallel\n",
    "        print(f'Running Query: {query}')\n",
    "        pass\n",
    "    print(\"Valid Metrics:\")\n",
    "    print(run_this_metrics)\n",
    "    \n",
    "    count=0\n",
    "    while count<1:\n",
    "        # For all valid metrics\n",
    "        for idx, row in run_this_metrics.iterrows():\n",
    "            \n",
    "            # Check if the metric cron expression matches right now\n",
    "            time_to_run_this_query = croniter.match(row['FREQUENCY'], datetime.datetime.now())\n",
    "            \n",
    "            if time_to_run_this_query:\n",
    "                # Start the ETL\n",
    "                start_a_parallel_etl_job(row['QUERY'])\n",
    "                \n",
    "        # Wait a minute until the next iteration\n",
    "        #time.sleep(60)\n",
    "        time.sleep(1)\n",
    "        count +=1\n",
    "        \n",
    "my_dummy_query_runner()"
   ]
  },
  {
   "cell_type": "markdown",
   "metadata": {},
   "source": [
    "Some advantages of centralizing metric computations, include:\n",
    "- governance\n",
    "- maintenance\n",
    "- DRY health check/ anomaly detection\n",
    "- query statistics"
   ]
  },
  {
   "cell_type": "markdown",
   "metadata": {},
   "source": [
    "### 7. Summary and Final comments\n",
    "\n",
    "**Important**: All python functions could be API calls, to better integrate and facilitate the development of a product, with an user interface. This is just a toy problem, real implementations of Metric Store and Measurement Architecture can have different complexities."
   ]
  },
  {
   "cell_type": "markdown",
   "metadata": {},
   "source": [
    "In summary, after all functions definitions, we created a DRY-based architecture, in which all components are reusable, ready to democratize measurement in your company.\n",
    "\n",
    "\n",
    "##### For every new metric:\n",
    "Register in a datacatalog\n",
    "\n",
    "```df_metadata = create_new_metric(name = 'new_metric', type_metric = 'business', responsible = 'zzzz@yourcompany.com', description = 'Just a dummy metric', frequency = '0 9 * * *')```\n",
    "\n",
    "##### When new metric is available (ex, once a day):\n",
    "Upload data to Metric Store\n",
    "\n",
    "```df_metric_store = upload_metric(df_append_store, date = '2021-11-30', metric = 'sales')```"
   ]
  },
  {
   "cell_type": "markdown",
   "metadata": {},
   "source": [
    "##### For every new experiment:\n",
    "Register in a experiment catalog\n",
    "\n",
    "```register_experiment(exp_metadata)```"
   ]
  },
  {
   "cell_type": "markdown",
   "metadata": {},
   "source": [
    "##### For every customer interaction:\n",
    "\n",
    "Whatever the source (email, push, third-party online campaigns, others), add information of customer, data, campaign and group in the experimentation table\n",
    "\n",
    "```df_experim = add_customer_interaction(df_experim)```"
   ]
  },
  {
   "cell_type": "markdown",
   "metadata": {},
   "source": [
    "This is a very simple example, but sufficient to illustrate a number of advantages of having a centralized, **DRY**-based measurement and experimentation framework.\n",
    "For this simple case, all metrics were aggregated by customer and date. Usually this hypothesis covers most of the cases, but similar architecture can be developed for intraday analysis (interactin by interaction)\n",
    "\n",
    "For drilldown analysis (ex. sales in a specific region), the suggestion is to add a customer dimension with dates."
   ]
  },
  {
   "cell_type": "markdown",
   "metadata": {},
   "source": [
    "Other applications:\n",
    "- Adding a cost table can be used for budget optimization and models like MMM, FFM, RBA\n",
    "- Supervised Learning (filter, pivot/ aggregation, train/ test split, model)"
   ]
  }
 ],
 "metadata": {
  "kernelspec": {
   "display_name": "Python 3",
   "language": "python",
   "name": "python3"
  },
  "language_info": {
   "codemirror_mode": {
    "name": "ipython",
    "version": 3
   },
   "file_extension": ".py",
   "mimetype": "text/x-python",
   "name": "python",
   "nbconvert_exporter": "python",
   "pygments_lexer": "ipython3",
   "version": "3.7.6"
  }
 },
 "nbformat": 4,
 "nbformat_minor": 4
}
